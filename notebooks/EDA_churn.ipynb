{
  "nbformat": 4,
  "nbformat_minor": 0,
  "metadata": {
    "colab": {
      "private_outputs": true,
      "provenance": []
    },
    "kernelspec": {
      "name": "python3",
      "display_name": "Python 3"
    },
    "language_info": {
      "name": "python"
    }
  },
  "cells": [
    {
      "cell_type": "markdown",
      "source": [
        "# Dataset - Telco Customer Churn"
      ],
      "metadata": {
        "id": "LuepdTE0Kg4d"
      }
    },
    {
      "cell_type": "markdown",
      "source": [
        "O dataset Telco Customer Churn, disponibilizado pela IBM, contém informações sobre clientes de uma empresa de telecomunicações e é utilizado para a análise e previsão do fenômeno de churn, ou seja, o cancelamento de serviços pelos clientes. Composto por 7.043 instâncias e 20 atributos, este conjunto de dados inclui tanto variáveis categóricas quanto numéricas, englobando aspectos como dados demográficos, informações contratuais, uso de serviços e valores monetários. A variável-alvo, Churn, classifica os clientes como aqueles que cancelaram ou não os serviços da empresa.\n",
        "\n",
        "Entre as variáveis presentes no dataset, destacam-se informações como gender, SeniorCitizen, tenure, Contract, PaymentMethod, MonthlyCharges, e TotalCharges, que fornecem uma visão detalhada dos clientes e do relacionamento contratual com a empresa. No entanto, algumas colunas, como a TotalCharges, exigem pré-processamento adicional devido a inconsistências no tipo de dado.\n",
        "\n",
        "Este dataset é amplamente utilizado para a construção de modelos preditivos de classificação binária, permitindo a análise de fatores que influenciam o churn dos clientes e contribuindo para a otimização de estratégias empresariais no setor de telecomunicações."
      ],
      "metadata": {
        "id": "PqRj2JMnKkNL"
      }
    },
    {
      "cell_type": "markdown",
      "source": [
        "Features\n",
        "\n",
        "1. gender\n",
        "→ Gênero do cliente (masculino ou feminino).\n",
        "\n",
        "2. SeniorCitizen\n",
        "→ Se o cliente é idoso (1 = Sim, 0 = Não).\n",
        "\n",
        "3. Partner\n",
        "→ Se o cliente tem parceiro/parceira (Sim ou Não).\n",
        "\n",
        "4. Dependents\n",
        "→ Se o cliente tem dependentes (filhos, outros familiares).\n",
        "\n",
        "5. tenure\n",
        "→ Tempo de permanência na empresa (em meses).\n",
        "\n",
        "6. PhoneService\n",
        "→ Se o cliente possui serviço de telefone (Sim ou Não).\n",
        "\n",
        "7. MultipleLines\n",
        "→ Se o cliente possui múltiplas linhas telefônicas (Sim, Não ou Não possui serviço telefônico).\n",
        "\n",
        "8. InternetService\n",
        "→ Tipo de serviço de internet (DSL, fibra ótica ou nenhum).\n",
        "\n",
        "9. OnlineSecurity\n",
        "→ Se o cliente possui segurança online (proteção contra vírus).\n",
        "\n",
        "10. OnlineBackup\n",
        "→ Se o cliente possui serviço de backup online.\n",
        "\n",
        "11. DeviceProtection\n",
        "→ Se o cliente possui proteção para seus dispositivos (manutenção, suporte).\n",
        "\n",
        "12. TechSupport\n",
        "→ Se o cliente possui suporte técnico.\n",
        "\n",
        "13. StreamingTV\n",
        "→ Se o cliente possui serviço de streaming de TV.\n",
        "\n",
        "14. StreamingMovies\n",
        "→ Se o cliente possui serviço de streaming de filmes.\n",
        "\n",
        "15. Contract\n",
        "→ Tipo de contrato do cliente (mensal, anual, bianual).\n",
        "\n",
        "16. PaperlessBilling\n",
        "→ Se o cliente recebe a fatura apenas online (sem papel).\n",
        "\n",
        "17. PaymentMethod\n",
        "→ Método de pagamento (boleto eletrônico, cheque enviado, débito automático, cartão de crédito automático).\n",
        "\n",
        "18. MonthlyCharges\n",
        "→ Valor da fatura mensal do cliente (em dólares).\n",
        "\n",
        "19. TotalCharges\n",
        "→ Valor total pago pelo cliente até o momento (em dólares).\n",
        "\n",
        "20. Churn\n",
        "→ Se o cliente cancelou o serviço (Sim = cancelou, Não = ainda está ativo)."
      ],
      "metadata": {
        "id": "94Z3guqDzcW2"
      }
    },
    {
      "cell_type": "markdown",
      "source": [
        "A análise exploratória de dados foi conduzida de acordo com a natureza e a estrutura dos dados apresentados. Cada tipo de dataframe, necessita de uma abordagem específica, considerando suas características."
      ],
      "metadata": {
        "id": "FQStuGZ9NNbD"
      }
    },
    {
      "cell_type": "markdown",
      "source": [
        "# 1. Importação dos dados"
      ],
      "metadata": {
        "id": "TtUVzToAcgJP"
      }
    },
    {
      "cell_type": "markdown",
      "source": [
        "## 1.1. Importação"
      ],
      "metadata": {
        "id": "8ZPJXQSFs0T2"
      }
    },
    {
      "cell_type": "code",
      "source": [
        "from google.colab import files\n",
        "\n",
        "# Abre a janela para selecionar o arquivo\n",
        "uploaded = files.upload()\n",
        "\n",
        "# Depois, para ler o arquivo\n",
        "import pandas as pd\n",
        "\n",
        "matriz = pd.read_csv('WA_Fn-UseC_-Telco-Customer-Churn.csv')"
      ],
      "metadata": {
        "id": "boN8e675tR8x"
      },
      "execution_count": null,
      "outputs": []
    },
    {
      "cell_type": "markdown",
      "source": [
        "## 1.2. Características do dataset bruto"
      ],
      "metadata": {
        "id": "nDeur76HKw3_"
      }
    },
    {
      "cell_type": "code",
      "source": [
        "# Informações básicas\n",
        "print(f\"Número de instâncias: {matriz.shape[0]}\")\n",
        "print(f\"Número de colunas: {matriz.shape[1]}\\n\")\n",
        "\n",
        "print(\"Colunas e tipos de variáveis:\")\n",
        "print(\"-\" * 50)\n",
        "\n",
        "# Percentual para definir \"poucas categorias\"\n",
        "limite_categoria = 0.10 * matriz.shape[0]  # 10% do número de instâncias\n",
        "\n",
        "# Para cada coluna\n",
        "for coluna in matriz.columns:\n",
        "    tipo = matriz[coluna].dtype\n",
        "\n",
        "    if pd.api.types.is_numeric_dtype(matriz[coluna]):\n",
        "        print(f\"🔹 {coluna}: Numérica\")\n",
        "\n",
        "    elif pd.api.types.is_object_dtype(matriz[coluna]) or pd.api.types.is_categorical_dtype(matriz[coluna]):\n",
        "        n_categorias = matriz[coluna].nunique()\n",
        "        print(f\"🔸 {coluna}: Categórica ({n_categorias} categorias)\")\n",
        "\n",
        "        # Se o número de categorias for pequeno (menos de 10% do total de instâncias)\n",
        "        if n_categorias <= limite_categoria:\n",
        "            categorias = matriz[coluna].unique()\n",
        "            print(f\"    Categorias: {categorias}\")\n",
        "\n",
        "    else:\n",
        "        print(f\"🔹 {coluna}: Tipo especial ({tipo})\")\n",
        "\n",
        "print(\"-\" * 50)"
      ],
      "metadata": {
        "id": "xN6ULvdfv9D9"
      },
      "execution_count": null,
      "outputs": []
    },
    {
      "cell_type": "markdown",
      "source": [
        "## 1.3. Visualização da matriz"
      ],
      "metadata": {
        "id": "iF85BC1KtTCm"
      }
    },
    {
      "cell_type": "code",
      "source": [
        "# Visualização da matriz\n",
        "matriz.head()"
      ],
      "metadata": {
        "id": "Wdt8Hz3ytYea"
      },
      "execution_count": null,
      "outputs": []
    },
    {
      "cell_type": "markdown",
      "source": [
        "# 2. Entendimento inicial do dataset"
      ],
      "metadata": {
        "id": "mIhf7vGKsl51"
      }
    },
    {
      "cell_type": "markdown",
      "source": [
        "## 2.1. Removendo coluna de customerID"
      ],
      "metadata": {
        "id": "5XC3STZhtJrZ"
      }
    },
    {
      "cell_type": "markdown",
      "source": [
        "A coluna 'customerID' deve ser removida da análise porque ela funciona apenas como um identificador único para cada cliente e não carrega nenhuma informação útil para os modelos de machine learning. Como possui 7043 categorias distintas (uma para cada instância), ela não contribui para padrões ou relações entre as variáveis e pode até prejudicar o desempenho do modelo ao introduzir ruído ou complexidade desnecessária. Mantê-la pode levar o modelo a aprender associações espúrias que não se repetem em novos dados."
      ],
      "metadata": {
        "id": "8HO_pXBdvqea"
      }
    },
    {
      "cell_type": "code",
      "source": [
        "#Remover primeira coluna\n",
        "matriz = matriz.drop(columns=['customerID'])"
      ],
      "metadata": {
        "id": "1VnnZND5tFWa"
      },
      "execution_count": null,
      "outputs": []
    },
    {
      "cell_type": "markdown",
      "source": [
        "## 2.2. Atualização dos nomes das colunas"
      ],
      "metadata": {
        "id": "GOPWAweiFUw-"
      }
    },
    {
      "cell_type": "markdown",
      "source": [
        "Visualização dos nomes da colunas atuais"
      ],
      "metadata": {
        "id": "CoP1DBmDvy-V"
      }
    },
    {
      "cell_type": "code",
      "source": [
        "# Nome das colunas\n",
        "matriz.columns"
      ],
      "metadata": {
        "id": "yhV5dTnByBZw"
      },
      "execution_count": null,
      "outputs": []
    },
    {
      "cell_type": "markdown",
      "source": [
        "## 2.3. Informações numéricas sobre a matriz"
      ],
      "metadata": {
        "id": "YowBI9KQFeyf"
      }
    },
    {
      "cell_type": "markdown",
      "source": [
        "Informações:\n",
        "* Número total de entradas (linhas)\n",
        "* Número de colunas\n",
        "* Nome de cada coluna\n",
        "* Quantidade de valores não nulos em cada coluna\n",
        "* Tipo de dado de cada coluna (int64, float64, object, etc.)\n",
        "* Uso de memória aproximado"
      ],
      "metadata": {
        "id": "SjFlrtgFzqzy"
      }
    },
    {
      "cell_type": "code",
      "source": [
        "matriz.info()"
      ],
      "metadata": {
        "id": "NtakPOBUyPDf"
      },
      "execution_count": null,
      "outputs": []
    },
    {
      "cell_type": "markdown",
      "source": [
        "## 2.4. Quantidade de valores nulos"
      ],
      "metadata": {
        "id": "j7UIsYN8FzAu"
      }
    },
    {
      "cell_type": "markdown",
      "source": [
        "Exibir a quantidade de valores nulos por cada coluna da matriz"
      ],
      "metadata": {
        "id": "6rRKrzMy0Zxw"
      }
    },
    {
      "cell_type": "code",
      "source": [
        "# Quantidade de valores nulos.\n",
        "matriz.isnull().sum()"
      ],
      "metadata": {
        "id": "UluGHmRKyVdY"
      },
      "execution_count": null,
      "outputs": []
    },
    {
      "cell_type": "markdown",
      "source": [
        "## 2.5. Presença de valores inválidos"
      ],
      "metadata": {
        "id": "UN-befQ6GPCU"
      }
    },
    {
      "cell_type": "markdown",
      "source": [
        "Nesta subseção são feitas as seguintes tarefas:\n",
        "* A presença de \"NaN\" e \"?\" por coluna\n",
        "* Identificação de valores suspeitos (espaços em branco)\n",
        "* Remoção das linhas com valores ausentes\n",
        "* Identificação das colunas que parecem ser numéricas, mas estão como objeto (texto)\n",
        "* Conversão das colunas \"object\" para \"float\""
      ],
      "metadata": {
        "id": "Y9ElETkz8ttP"
      }
    },
    {
      "cell_type": "markdown",
      "source": [
        "### 2.5.1 Presença de \"NaN\" e \"?\""
      ],
      "metadata": {
        "id": "QXtpHiXN40Oq"
      }
    },
    {
      "cell_type": "code",
      "source": [
        "# Para cada coluna\n",
        "  # Coluna: nome\n",
        "  # Tipo: categórica, binária, numérica inteira, etc.\n",
        "  # Se possui valores NaN\n",
        "  # Se possui o caractere \"?\" (muito usado como marcador de valor ausente)\n",
        "\n",
        "# Função para analisar coluna\n",
        "def analisar_coluna(col):\n",
        "    serie = matriz[col]\n",
        "    tipo_dado = serie.dtype\n",
        "    valores_unicos = serie.dropna().unique()\n",
        "    num_unicos = len(valores_unicos)\n",
        "\n",
        "    # Detecta se há '?'\n",
        "    possui_interrogacao = serie.astype(str).str.contains(r'^\\?$').any()\n",
        "\n",
        "    # Define tipo da variável\n",
        "    if tipo_dado == 'object':\n",
        "        if num_unicos == 2:\n",
        "            tipo_variavel = 'Binária (categórica)'\n",
        "        else:\n",
        "            tipo_variavel = 'Categórica'\n",
        "        escala = f\"Categorias: {list(valores_unicos)}\"\n",
        "    elif pd.api.types.is_numeric_dtype(serie):\n",
        "        if num_unicos == 2:\n",
        "            tipo_variavel = 'Binária (numérica)'\n",
        "        elif pd.api.types.is_integer_dtype(serie):\n",
        "            tipo_variavel = 'Numérica inteira'\n",
        "        else:\n",
        "            tipo_variavel = 'Numérica contínua'\n",
        "        escala = f\"Valores entre {serie.min()} e {serie.max()}\"\n",
        "    else:\n",
        "        tipo_variavel = 'Outro'\n",
        "        escala = 'Não identificado'\n",
        "\n",
        "    possui_nan = serie.isna().any()\n",
        "\n",
        "    return {\n",
        "        'Tipo': tipo_variavel,\n",
        "        'Escala': escala,\n",
        "        'Possui NaN': possui_nan,\n",
        "        'Possui \"?\"': possui_interrogacao\n",
        "    }\n",
        "\n",
        "# Analisa todas as colunas\n",
        "analise_completa = {col: analisar_coluna(col) for col in matriz.columns}\n",
        "\n",
        "# Exibe o resultado de forma organizada\n",
        "for col, info in analise_completa.items():\n",
        "    print(f\"\\nColuna: {col}\")\n",
        "    for chave, valor in info.items():\n",
        "        print(f\"  {chave}: {valor}\")"
      ],
      "metadata": {
        "id": "QN_7gkymhMKc"
      },
      "execution_count": null,
      "outputs": []
    },
    {
      "cell_type": "markdown",
      "source": [
        "### 2.5.2. Identificar valores suspeitos: espaços em branco"
      ],
      "metadata": {
        "id": "hZoStp8O3QeO"
      }
    },
    {
      "cell_type": "code",
      "source": [
        "# Identificar valores suspeitos: espaços em branco\n",
        "print(\"\\nAnalisando valores suspeitos (espaços em branco ou strings vazias):\")\n",
        "for coluna in matriz.columns:\n",
        "    if matriz[coluna].dtype == 'object':\n",
        "        qtde_brancos = (matriz[coluna].str.strip() == '').sum()\n",
        "        if qtde_brancos > 0:\n",
        "            print(f\"- {coluna}: {qtde_brancos} valores em branco\")"
      ],
      "metadata": {
        "id": "JG3nItSM3FMf"
      },
      "execution_count": null,
      "outputs": []
    },
    {
      "cell_type": "markdown",
      "source": [
        "### 2.5.3. Remoção dos espaços vazios"
      ],
      "metadata": {
        "id": "xbXnRz9bM2sW"
      }
    },
    {
      "cell_type": "code",
      "source": [
        "# Remover linhas com valores ausentes (NaN) - string\n",
        "matriz = matriz[matriz['TotalCharges'] != '']\n",
        "\n",
        "# Remover linhas com valores ausentes (NaN) na coluna 'TotalCharges'\n",
        "matriz = matriz.dropna(subset=['TotalCharges'])\n",
        "\n",
        "# Verificar se as linhas com NaN foram removidas\n",
        "print(\"\\nLinhas com valores ausentes em 'TotalCharges' foram removidas:\")\n",
        "print(matriz.isnull().sum())\n"
      ],
      "metadata": {
        "id": "lj-Uw5LYM6SQ"
      },
      "execution_count": null,
      "outputs": []
    },
    {
      "cell_type": "markdown",
      "source": [
        "### 2.5.4. Colunas que parecem ser numéricas"
      ],
      "metadata": {
        "id": "9pqFoXag7A37"
      }
    },
    {
      "cell_type": "code",
      "source": [
        "import pandas as pd\n",
        "\n",
        "# Verificar colunas que estão como texto, mas deveriam ser numéricas\n",
        "possiveis_numericas = []\n",
        "\n",
        "for coluna in matriz.columns:\n",
        "    if matriz[coluna].dtype == 'object':\n",
        "        # Limpa espaços e remove strings vazias\n",
        "        serie_limpa = matriz[coluna].dropna().astype(str).str.strip()\n",
        "        serie_filtrada = serie_limpa[serie_limpa != '']\n",
        "        try:\n",
        "            pd.to_numeric(serie_filtrada, errors='raise')\n",
        "            possiveis_numericas.append(coluna)\n",
        "        except Exception as e:\n",
        "            print(f\"Falha ao converter '{coluna}': {e}\")\n",
        "\n",
        "if possiveis_numericas:\n",
        "    print(\"\\nAs seguintes colunas estão como 'object', mas parecem ser numéricas:\")\n",
        "    for col in possiveis_numericas:\n",
        "        print(f\"- {col}\")\n",
        "else:\n",
        "    print(\"\\nNão foram encontradas colunas com suspeita de tipo errado.\")\n"
      ],
      "metadata": {
        "id": "Y5MKpZBu68RL"
      },
      "execution_count": null,
      "outputs": []
    },
    {
      "cell_type": "markdown",
      "source": [
        "### 2.5.5. Conversão da coluna \"object\" para \"float\""
      ],
      "metadata": {
        "id": "LSqKYV-W40S-"
      }
    },
    {
      "cell_type": "markdown",
      "source": [
        "A variável 'TotalCharges' deveria ser numérica, mas parece estar lida como texto/categórica.\n",
        "Aqui, é feita a conversão da coluna para float."
      ],
      "metadata": {
        "id": "CDMWt8uI5ACc"
      }
    },
    {
      "cell_type": "code",
      "source": [
        "# Corrigir a variável TotalCharges\n",
        "import pandas as pd\n",
        "matriz['TotalCharges'] = pd.to_numeric(matriz['TotalCharges'], errors='coerce')\n",
        "\n",
        "# Verifica o tipo de dados da coluna\n",
        "print(matriz['TotalCharges'].dtype)"
      ],
      "metadata": {
        "id": "CzR5r9IZ46gO"
      },
      "execution_count": null,
      "outputs": []
    },
    {
      "cell_type": "markdown",
      "source": [
        "## 2.6. Verificação de colunas duplicadas"
      ],
      "metadata": {
        "id": "Ufqz_amAGocW"
      }
    },
    {
      "cell_type": "markdown",
      "source": [
        "Esse código verifica se existem colunas duplicadas em um DataFrame — ou seja, colunas diferentes que têm exatamente os mesmos valores linha por linha. Ele faz isso comparando cada par de colunas entre si."
      ],
      "metadata": {
        "id": "N2Tnw2Hd9LYH"
      }
    },
    {
      "cell_type": "code",
      "source": [
        "# Verificar colunas duplicadas\n",
        "duplicadas = []\n",
        "colunas = matriz.columns\n",
        "\n",
        "for i in range(len(colunas)):\n",
        "    for j in range(i + 1, len(colunas)):\n",
        "        if matriz[colunas[i]].equals(matriz[colunas[j]]):\n",
        "            duplicadas.append((colunas[i], colunas[j]))\n",
        "\n",
        "# Exibe os pares de colunas duplicadas\n",
        "for c1, c2 in duplicadas:\n",
        "    print(f\"Colunas '{c1}' e '{c2}' são duplicadas.\")"
      ],
      "metadata": {
        "id": "a6io4lluzDYp"
      },
      "execution_count": null,
      "outputs": []
    },
    {
      "cell_type": "markdown",
      "source": [
        "## 2.7. Verificação de valores únicos"
      ],
      "metadata": {
        "id": "n5hLi4HuGyhN"
      }
    },
    {
      "cell_type": "markdown",
      "source": [
        "Esse código verifica quantos valores únicos existem em cada coluna do DataFrame matriz. Serve para:\n",
        "* Identificar colunas constantes (com apenas 1 valor).\n",
        "* Detectar colunas com alta cardinalidade (ex: IDs, nomes únicos).\n",
        "* Avaliar colunas que podem precisar de tratamento especial (como transformação categórica, remoção ou codificação)."
      ],
      "metadata": {
        "id": "dGZbCMmf9Z3n"
      }
    },
    {
      "cell_type": "code",
      "source": [
        "# Verificar valores únicos\n",
        "valores_unicos = matriz.nunique()\n",
        "print(valores_unicos)"
      ],
      "metadata": {
        "id": "U6CW192B0afK"
      },
      "execution_count": null,
      "outputs": []
    },
    {
      "cell_type": "markdown",
      "source": [
        "## 2.8. Verificar linhas duplicadas"
      ],
      "metadata": {
        "id": "u_eHrfIBTX67"
      }
    },
    {
      "cell_type": "markdown",
      "source": [
        "Identificar linhas que estão duplicadas e remove-as mantendo a primeira."
      ],
      "metadata": {
        "id": "ziqc7rzoUiwH"
      }
    },
    {
      "cell_type": "code",
      "source": [
        "#Detectar duplicatas - linhas\n",
        "#Verifica se existem linhas repetidas no DataFrame:\n",
        "duplicatas = matriz.duplicated()\n",
        "print(matriz[duplicatas])\n",
        "\n",
        "# Contar duplicatas - linhas\n",
        "print(f\"\\nTotal de linhas duplicadas: {matriz.duplicated().sum()}\")\n",
        "\n",
        "# Remover duplicatas\n",
        "# Remove as duplicatas mantendo a primeira ocorrência\n",
        "matriz = matriz.drop_duplicates()"
      ],
      "metadata": {
        "id": "rDPwTrcOTnU_"
      },
      "execution_count": null,
      "outputs": []
    },
    {
      "cell_type": "markdown",
      "source": [
        "## 2.9. Verificar cardinalidade"
      ],
      "metadata": {
        "id": "1Vh-i0ISG4CG"
      }
    },
    {
      "cell_type": "markdown",
      "source": [
        "A cardinalidade ajudar a identificar colunas que:\n",
        "* São fáceis de codificar (baixa cardinalidade — poucos valores únicos, como \"Sim\"/\"Não\").\n",
        "* Podem causar problemas (alta cardinalidade — muitos valores únicos, como \"customerID\", nomes ou códigos).\n",
        "* Alta cardinalidade pode prejudicar modelos de machine learning, especialmente com codificações como one-hot (gera muitas colunas e risco de overfitting).\n",
        "* Pode indicar colunas que devem ser removidas (como IDs).\n",
        "* Ajuda na escolha da estratégia de pré-processamento (label encoding, hashing, etc.)."
      ],
      "metadata": {
        "id": "rvOsRHq_-AFP"
      }
    },
    {
      "cell_type": "code",
      "source": [
        "# Verificar cardinalidade\n",
        "# Seleciona apenas colunas categóricas (strings/objetos)\n",
        "colunas_categoricas = matriz.select_dtypes(include='object')\n",
        "\n",
        "# Total de linhas no DataFrame\n",
        "total_linhas = len(matriz)\n",
        "\n",
        "print(\"Cardinalidade das variáveis categóricas:\")\n",
        "print()\n",
        "\n",
        "# Para cada coluna categórica, calcula e avalia a cardinalidade\n",
        "# Mais de 10% das linhas têm categorias diferentes é considerada alta cardinalidade\n",
        "for coluna in colunas_categoricas.columns:\n",
        "    unicos = matriz[coluna].nunique()\n",
        "    proporcao = unicos / total_linhas\n",
        "    status = \"ALTA\" if proporcao > 0.1 else \"BAIXA\"\n",
        "\n",
        "    print(f\"Coluna: {coluna}\")\n",
        "    print(f\"  → Valores únicos: {unicos}\")\n",
        "    print(f\"  → Proporção: {proporcao:.2%}\")\n",
        "    print(f\"  → Cardinalidade: {status}\")\n",
        "    print()"
      ],
      "metadata": {
        "id": "1JTfC2en1Ecn"
      },
      "execution_count": null,
      "outputs": []
    },
    {
      "cell_type": "markdown",
      "source": [
        "# 3. Estatísticas descritivas"
      ],
      "metadata": {
        "id": "AYyFSZJzjWgE"
      }
    },
    {
      "cell_type": "markdown",
      "source": [
        "## 3.1. Variáveis numéricas - descrição"
      ],
      "metadata": {
        "id": "xI8-A_psHTd0"
      }
    },
    {
      "cell_type": "markdown",
      "source": [
        "Nesta subseção são analisadas as variáveis numéricas quanto a:\n",
        "* Quantidade de valores não nulos\n",
        "* Média\n",
        "* Desvio padrão\n",
        "* Quartos e valores extremos"
      ],
      "metadata": {
        "id": "t27hiadh_iMO"
      }
    },
    {
      "cell_type": "code",
      "source": [
        "matriz.describe()"
      ],
      "metadata": {
        "id": "NV7UQA4X9UGp"
      },
      "execution_count": null,
      "outputs": []
    },
    {
      "cell_type": "markdown",
      "source": [
        "## 3.2. Variáveis categóricas - descrição e conversão"
      ],
      "metadata": {
        "id": "Rh8WQm8PHb7w"
      }
    },
    {
      "cell_type": "markdown",
      "source": [
        "Nesta subseção são analisadas as variáveis categóricas quanto a:\n",
        "* Descrição: frequência da quantidade de valores em cada coluna.\n",
        "* Label Encoding: conversão e mapeamento das variáveis binárias para valores numéricos\n",
        "* Verificação se existem valores inesperados após a conversão Label Encoding.\n",
        "* One-Hot Encoding: conversão e mapeamento das variáveis com mais de 2 categoria. Bem como, criação de novas colunas, remoção de colunas redundantes E descrição das colunas finais.\n",
        "* Verificação se existem valores inesperados após a conversão One-Hot Encoding.\n",
        "* Verifica a presença de valores \"NaN\" e \"?\" após a codificação One-Hot Endoding\n",
        "* Remove linhas com valores \"NaN\"\n",
        "* Visualiza a matriz após transformações"
      ],
      "metadata": {
        "id": "OS29UbBvEOeM"
      }
    },
    {
      "cell_type": "markdown",
      "source": [
        "### 2.2.1. Descrição"
      ],
      "metadata": {
        "id": "UjI27FRJ_5DQ"
      }
    },
    {
      "cell_type": "code",
      "source": [
        "# DESCRIÇÃO - VARIÁVEIS CATEGÓRICAS\n",
        "  # Os valores únicos em cada coluna categórica\n",
        "  # Quantas vezes cada um aparece (frequência absoluta)\n",
        "\n",
        "# Seleciona colunas categóricas\n",
        "colunas_cat = matriz.select_dtypes(include='object')\n",
        "\n",
        "# Frequência de valores em cada coluna categórica\n",
        "print(\"\\nFrequência dos valores nas variáveis categóricas:\")\n",
        "for col in colunas_cat.columns:\n",
        "    print(f\"\\nColuna: {col}\")\n",
        "    print(matriz[col].value_counts())"
      ],
      "metadata": {
        "id": "Gj2kCzr_9sMx"
      },
      "execution_count": null,
      "outputs": []
    },
    {
      "cell_type": "markdown",
      "source": [
        "### 2.2.2. Variáveis binárias - Label Encoding"
      ],
      "metadata": {
        "id": "qSbohx0Z2CN8"
      }
    },
    {
      "cell_type": "code",
      "source": [
        "import pandas as pd\n",
        "\n",
        "# Colunas binárias\n",
        "colunas_binarias = [\n",
        "    'gender', 'Partner', 'Dependents', 'PhoneService',\n",
        "    'PaperlessBilling', 'Churn'\n",
        "]\n",
        "\n",
        "# Diagnóstico: valores únicos antes do mapeamento\n",
        "print(\"Valores únicos antes do mapeamento:\")\n",
        "print(\"--------------------------------------\")\n",
        "for coluna in colunas_binarias:\n",
        "    print(f\"- {coluna}: {matriz[coluna].unique()}\")\n",
        "\n",
        "\n",
        "# Mapeamento binário\n",
        "for coluna in colunas_binarias:\n",
        "    if coluna == 'gender':\n",
        "        matriz[coluna] = matriz[coluna].map({'Female': 0, 'Male': 1})\n",
        "    else:\n",
        "        matriz[coluna] = matriz[coluna].map({'No': 0, 'Yes': 1})\n",
        "\n",
        "# Verificação final: valores únicos e possíveis NaNs\n",
        "print(\"\\nMapeamento realizado nas variáveis binárias:\")\n",
        "print(\"--------------------------------------\")\n",
        "print(\"- gender: Female = 0, Male = 1\")\n",
        "print(\"- Partner: No = 0, Yes = 1\")\n",
        "print(\"- Dependents: No = 0, Yes = 1\")\n",
        "print(\"- PhoneService: No = 0, Yes = 1\")\n",
        "print(\"- PaperlessBilling: No = 0, Yes = 1\")\n",
        "print(\"- Churn: No = 0, Yes = 1\")\n",
        "\n",
        "print(\"\\nValores únicos após o mapeamento:\")\n",
        "print(\"--------------------------------------\")\n",
        "for coluna in colunas_binarias:\n",
        "    print(f\"- {coluna}: {matriz[coluna].unique()}\")\n",
        "\n",
        "# Checar se há NaN\n",
        "print(\"\\nVerificando se há valores NaN após o mapeamento:\")\n",
        "print(matriz[colunas_binarias].isnull().sum())\n"
      ],
      "metadata": {
        "id": "iUm6_O_u2dAp"
      },
      "execution_count": null,
      "outputs": []
    },
    {
      "cell_type": "markdown",
      "source": [
        "### 2.2.3. Verificar a presença de valores inesperados após a conversão - Label Encoding"
      ],
      "metadata": {
        "id": "HD04hLqhBHuY"
      }
    },
    {
      "cell_type": "code",
      "source": [
        "#Verificar se existem valores inesperados:\n",
        "for coluna in colunas_binarias:\n",
        "    print(f\"{coluna}: {matriz[coluna].unique()}\")"
      ],
      "metadata": {
        "id": "GrjiRvhECAJ2"
      },
      "execution_count": null,
      "outputs": []
    },
    {
      "cell_type": "markdown",
      "source": [
        "### 2.2.4. Variáveis com mais de 2 categorias - One-Hot Encoding"
      ],
      "metadata": {
        "id": "ULu2Rjtq2pap"
      }
    },
    {
      "cell_type": "code",
      "source": [
        "# Colunas com 3 ou mais categorias (One-Hot Encoding)\n",
        "colunas_multicategoricas = [\n",
        "    'MultipleLines', 'InternetService', 'OnlineSecurity', 'OnlineBackup',\n",
        "    'DeviceProtection', 'TechSupport', 'StreamingTV', 'StreamingMovies',\n",
        "    'Contract', 'PaymentMethod'\n",
        "]\n",
        "\n",
        "# Diagnóstico: categorias únicas antes do One-Hot Encoding\n",
        "print(\"Categorias únicas antes do One-Hot Encoding:\")\n",
        "print(\"-------------------------------------------------\")\n",
        "categorias_removidas = []\n",
        "\n",
        "for coluna in colunas_multicategoricas:\n",
        "    categorias = matriz[coluna].dropna().unique().tolist()\n",
        "    print(f\"- {coluna}: {categorias}\")\n",
        "    if len(categorias) > 1:\n",
        "        categorias_removidas.append(f\"{coluna}_{categorias[0]}\")  # Primeira será descartada com drop_first\n",
        "\n",
        "# Aplicar One-Hot Encoding com drop_first=True\n",
        "matriz = pd.get_dummies(matriz, columns=colunas_multicategoricas, drop_first=True)\n",
        "\n",
        "# Identificar novas colunas criadas\n",
        "novas_colunas = [col for col in matriz.columns if any(col.startswith(prefix + \"_\") for prefix in colunas_multicategoricas)]\n",
        "\n",
        "# Converter booleanos para inteiros (0 e 1)\n",
        "matriz[novas_colunas] = matriz[novas_colunas].astype(int)\n",
        "\n",
        "# Detectar e remover colunas redundantes (ex: \"No internet service\", \"No phone service\")\n",
        "redundantes = [col for col in novas_colunas if any(txt in col.lower() for txt in ['no internet service', 'no phone service'])]\n",
        "\n",
        "matriz.drop(columns=redundantes, inplace=True)\n",
        "\n",
        "# Exibir resumo das variáveis descartadas\n",
        "print(\"\\nVariáveis removidas com drop_first (1ª categoria de cada variável):\")\n",
        "print(\"----------------------------------------------------------------------\")\n",
        "print(f\"Total removidas (drop_first): {len(categorias_removidas)}\")\n",
        "for cat in categorias_removidas:\n",
        "    print(f\"- {cat}\")\n",
        "\n",
        "print(\"\\nVariáveis removidas por redundância lógica (ex: 'No internet service'):\")\n",
        "print(\"------------------------------------------------------------------------\")\n",
        "print(f\"Total removidas (redundantes): {len(redundantes)}\")\n",
        "for col in redundantes:\n",
        "    print(f\"- {col}\")\n",
        "\n",
        "# Exibir as novas colunas finais após limpeza\n",
        "print(\"\\nColunas finais após One-Hot Encoding e limpeza:\")\n",
        "print(\"------------------------------------------------\")\n",
        "for coluna in colunas_multicategoricas:\n",
        "    relacionadas = [c for c in matriz.columns if c.startswith(coluna + \"_\")]\n",
        "    print(f\"- {coluna}: {relacionadas}\")\n"
      ],
      "metadata": {
        "id": "S9PYaBRJTdM_"
      },
      "execution_count": null,
      "outputs": []
    },
    {
      "cell_type": "markdown",
      "source": [
        "### 2.2.5.  Verificar a presença de valores inesperados após a conversão - One-Hot Encoding"
      ],
      "metadata": {
        "id": "2058vIdtCB2g"
      }
    },
    {
      "cell_type": "code",
      "source": [
        "# Verificar se existem valores inesperados nas colunas\n",
        "print(\"\\nVerificando valores únicos nas colunas criadas pelo One-Hot Encoding:\")\n",
        "print(\"-------------------------------------------------------------------------\")\n",
        "for coluna in colunas_multicategoricas:\n",
        "    colunas_oh = [c for c in matriz.columns if c.startswith(coluna + \"_\")]\n",
        "    for c in colunas_oh:\n",
        "        valores_unicos = matriz[c].unique()\n",
        "        print(f\"{c}: {valores_unicos}\")"
      ],
      "metadata": {
        "id": "LtyUWQ_uTzeJ"
      },
      "execution_count": null,
      "outputs": []
    },
    {
      "cell_type": "markdown",
      "source": [
        "MultipleLines_No: Se o valor é True, significa que o cliente não tem múltiplas linhas, e o valor 1 será atribuído. Se o valor for False, o cliente tem múltiplas linhas, e o valor será 0."
      ],
      "metadata": {
        "id": "XznWvDYN64xf"
      }
    },
    {
      "cell_type": "markdown",
      "source": [
        "### 2.2.6. Verifica a presença de valores \"NaN\" e \"?\" após a codificação One-Hot Encoding"
      ],
      "metadata": {
        "id": "HroCOvf7C_6B"
      }
    },
    {
      "cell_type": "code",
      "source": [
        "# Para cada coluna\n",
        "  # Coluna: nome\n",
        "  # Tipo: categórica, binária, numérica inteira, etc.\n",
        "  # Se possui valores NaN\n",
        "  # Se possui o caractere \"?\" (muito usado como marcador de valor ausente)\n",
        "\n",
        "# Função para analisar colunas com NaN ou '?'\n",
        "def colunas_com_nan_ou_interrogacao(df):\n",
        "    colunas_problema = []\n",
        "\n",
        "    for col in df.columns:\n",
        "        serie = df[col]\n",
        "        tem_nan = serie.isna().sum()\n",
        "        tem_interrogacao = (serie.astype(str) == '?').sum()\n",
        "\n",
        "        if tem_nan > 0 or tem_interrogacao > 0:\n",
        "            colunas_problema.append({\n",
        "                'Coluna': col,\n",
        "                'Qtd_NaN': tem_nan,\n",
        "                'Qtd_Interrogacao': tem_interrogacao\n",
        "            })\n",
        "\n",
        "    return colunas_problema\n",
        "\n",
        "# Aplicar função e exibir resultados\n",
        "problemas = colunas_com_nan_ou_interrogacao(matriz)\n",
        "\n",
        "print(\"\\nColunas com valores ausentes (NaN) ou '?' detectadas:\")\n",
        "print(\"--------------------------------------------------------\")\n",
        "for item in problemas:\n",
        "    print(f\"- {item['Coluna']}: {item['Qtd_NaN']} NaN, {item['Qtd_Interrogacao']} '?'\")\n"
      ],
      "metadata": {
        "id": "YXhDA4fM_jXr"
      },
      "execution_count": null,
      "outputs": []
    },
    {
      "cell_type": "markdown",
      "source": [
        "### 2.2.7. Remove linhas com valores \"NaN\""
      ],
      "metadata": {
        "id": "g9GuVYkVDtIb"
      }
    },
    {
      "cell_type": "code",
      "source": [
        "# Verificar quantidade total de NaNs antes\n",
        "qtd_nan_antes = matriz.isna().sum().sum()\n",
        "linhas_antes = matriz.shape[0]\n",
        "\n",
        "print(f\"Total de valores NaN antes da remoção: {qtd_nan_antes}\")\n",
        "print(f\"Número de linhas antes da remoção: {linhas_antes}\")\n",
        "\n",
        "# Remover todas as linhas com qualquer NaN\n",
        "matriz = matriz.dropna()\n",
        "\n",
        "# Verificar quantidade total de NaNs depois\n",
        "qtd_nan_depois = matriz.isna().sum().sum()\n",
        "linhas_depois = matriz.shape[0]\n",
        "\n",
        "print(\"\\nRemoção de linhas com valores NaN concluída.\")\n",
        "print(f\"Número de linhas após a remoção: {linhas_depois}\")\n",
        "print(f\"Total de valores NaN após a remoção: {qtd_nan_depois}\")\n",
        "print(f\"Total de linhas removidas: {linhas_antes - linhas_depois}\")"
      ],
      "metadata": {
        "id": "HPct-7xMV64L"
      },
      "execution_count": null,
      "outputs": []
    },
    {
      "cell_type": "markdown",
      "source": [
        "### 2.2.7. Visualiza a matriz após transformações"
      ],
      "metadata": {
        "id": "iC-uL_gDD_zw"
      }
    },
    {
      "cell_type": "code",
      "source": [
        "matriz.head()"
      ],
      "metadata": {
        "id": "li8dQr5D6gwj"
      },
      "execution_count": null,
      "outputs": []
    },
    {
      "cell_type": "markdown",
      "source": [
        "## 3.3. Medidas da estatística descritiva - após codificação das colunas"
      ],
      "metadata": {
        "id": "eA0TjT6bHpLz"
      }
    },
    {
      "cell_type": "markdown",
      "source": [
        "Aqui, é feita uma análise da estatística descritiva das variáveis numéricas:\n",
        "* Média, Mediana, Moda, Desvio Padrão, Variância, IQR, Assimetria, Curtose.\n",
        "\n",
        "Análise feita após a codificação das colunas antes categóricas e agora numéricas."
      ],
      "metadata": {
        "id": "lUMJpU7FEZ5A"
      }
    },
    {
      "cell_type": "code",
      "source": [
        "# Para variáveis numéricas\n",
        "# Separa numéricas e categóricas\n",
        "num_df = matriz.select_dtypes(include='number')\n",
        "cat_df = matriz.select_dtypes(include='object')\n",
        "\n",
        "# Estatísticas para variáveis numéricas\n",
        "media = num_df.mean()\n",
        "mediana = num_df.median()\n",
        "moda_num = num_df.mode().iloc[0]\n",
        "desvio = num_df.std()\n",
        "variancia = num_df.var()\n",
        "q1 = num_df.quantile(0.25)\n",
        "q3 = num_df.quantile(0.75)\n",
        "iqr = q3 - q1\n",
        "skew = num_df.skew()\n",
        "kurt = num_df.kurt()\n",
        "\n",
        "# Monta DataFrame com numéricas\n",
        "estatisticas_numericas = pd.DataFrame({\n",
        "    'Média': media,\n",
        "    'Mediana': mediana,\n",
        "    'Moda': moda_num,\n",
        "    'Desvio Padrão': desvio,\n",
        "    'Variância': variancia,\n",
        "    'IQR (Q3 - Q1)': iqr,\n",
        "    'Assimetria (Skewness)': skew,\n",
        "    'Curtose': kurt\n",
        "})\n",
        "\n",
        "# Exibe com 3 casas decimais nas numéricas\n",
        "pd.options.display.float_format = '{:.3f}'.format\n",
        "print(estatisticas_numericas)"
      ],
      "metadata": {
        "id": "3D30KtHW_Zo7"
      },
      "execution_count": null,
      "outputs": []
    },
    {
      "cell_type": "markdown",
      "source": [
        "# 4. Visualizações Univariadas"
      ],
      "metadata": {
        "id": "eei-ZN95BEFL"
      }
    },
    {
      "cell_type": "markdown",
      "source": [
        "3 tipos de visualizações univariadas são adequadas para esse contexto:\n",
        "* Histograma: permite visualizar a distribuição de frequências de uma variável numérica contínua, como o tempo de permanência (tenure) ou o valor cobrado mensalmente (MonthlyCharges), facilitando a identificação de padrões, concentrações e assimetrias nos dados.\n",
        "* Boxplot: apresenta a mediana, os quartis e os outliers de uma variável, sendo útil para entender a dispersão e possíveis valores extremos, como em TotalCharges, além de permitir comparações entre grupos, como clientes que cancelaram ou não (Churn).\n",
        "* Densidade/KDE: fornece uma estimativa suave da distribuição de uma variável contínua, servindo como alternativa ao histograma, e é especialmente útil para comparar visualmente diferentes subgrupos dentro de uma mesma variável."
      ],
      "metadata": {
        "id": "WPI1scyKFHq9"
      }
    },
    {
      "cell_type": "markdown",
      "source": [
        "## 4.1. Histograma - variáveis numéricas"
      ],
      "metadata": {
        "id": "jkiGdTEjJGRq"
      }
    },
    {
      "cell_type": "code",
      "source": [
        "# HISTOGRAMA - variáveis numéricas\n",
        "import matplotlib.pyplot as plt\n",
        "\n",
        "for col in matriz.select_dtypes(include='number').columns:\n",
        "    plt.figure(figsize=(6,4))\n",
        "    matriz[col].hist(bins=30)\n",
        "    plt.title(f'Histograma - {col}')\n",
        "    plt.xlabel(col)\n",
        "    plt.ylabel('Frequência')\n",
        "    plt.grid(True)\n",
        "    plt.show()\n"
      ],
      "metadata": {
        "id": "NSBqUEpZBDoQ"
      },
      "execution_count": null,
      "outputs": []
    },
    {
      "cell_type": "markdown",
      "source": [
        "## 4.2. Boxplots - variáveis numéricas"
      ],
      "metadata": {
        "id": "Dj0a2XUtJOBJ"
      }
    },
    {
      "cell_type": "code",
      "source": [
        "# BOXPLOTS - variáveis numéricas\n",
        "import seaborn as sns\n",
        "import matplotlib.pyplot as plt\n",
        "\n",
        "# Filtrar apenas variáveis numéricas com mais de 2 valores distintos\n",
        "colunas_multivalor = [\n",
        "    col for col in matriz.select_dtypes(include='number').columns\n",
        "    if matriz[col].nunique() > 2\n",
        "]\n",
        "\n",
        "# Gerar boxplots\n",
        "for col in colunas_multivalor:\n",
        "    plt.figure(figsize=(6, 4))\n",
        "    sns.boxplot(x=matriz[col])\n",
        "    plt.title(f'Boxplot - {col}')\n",
        "    plt.xlabel(col)\n",
        "    plt.show()\n"
      ],
      "metadata": {
        "id": "CyrShV5KCFvW"
      },
      "execution_count": null,
      "outputs": []
    },
    {
      "cell_type": "markdown",
      "source": [
        "## 4.3. Densidade/KDE (Kernel Density Estimation)"
      ],
      "metadata": {
        "id": "PqGijaOBJWS6"
      }
    },
    {
      "cell_type": "code",
      "source": [
        "# Densidade / KDE (Kernel Density Estimation)\n",
        "import seaborn as sns\n",
        "import matplotlib.pyplot as plt\n",
        "\n",
        "# Loop apenas nas variáveis numéricas com mais de 2 valores únicos\n",
        "for col in matriz.select_dtypes(include='number').columns:\n",
        "    if matriz[col].nunique() > 2:\n",
        "        plt.figure(figsize=(6, 4))\n",
        "        sns.kdeplot(data=matriz, x=col, fill=True)\n",
        "        plt.title(f'Densidade (KDE) - {col}')\n",
        "        plt.xlabel(col)\n",
        "        plt.ylabel('Densidade')\n",
        "        plt.grid(True)\n",
        "        plt.show()\n"
      ],
      "metadata": {
        "id": "TgB3MpEwCb2Q"
      },
      "execution_count": null,
      "outputs": []
    },
    {
      "cell_type": "markdown",
      "source": [
        "# 5. Visualizações Bivariadas"
      ],
      "metadata": {
        "id": "8jUQuhYDD4Ld"
      }
    },
    {
      "cell_type": "markdown",
      "source": [
        "2 tipos de visualizações bivariadas são adequadas para esse contexto:\n",
        "\n",
        "* Gráfico de dispersão (scatterplot): permite visualizar a relação entre duas variáveis numéricas, como a correlação entre MonthlyCharges e TotalCharges. Ele ajuda a identificar padrões, tendências lineares ou não lineares e a presença de outliers entre as variáveis.\n",
        "* Mapas de calor de correlação (heatmap): mostra a intensidade da correlação entre várias variáveis, geralmente com uma matriz de correlação. Esse tipo de visualização é útil para entender rapidamente quais variáveis possuem uma relação forte ou fraca entre si, como por exemplo, a correlação entre tenure, MonthlyCharges e TotalCharges."
      ],
      "metadata": {
        "id": "wP2R918mGJDI"
      }
    },
    {
      "cell_type": "markdown",
      "source": [
        "## 5.1. Gráfico de dispersão (scatterplot)"
      ],
      "metadata": {
        "id": "BwLpaVJRKoMa"
      }
    },
    {
      "cell_type": "code",
      "source": [
        " # Gráfico de Dispersão (Scatterplot) - Relação entre duas variáveis numéricas\n",
        "import seaborn as sns\n",
        "import matplotlib.pyplot as plt\n",
        "\n",
        "# Selecionar variáveis numéricas com mais de 2 valores únicos\n",
        "variaveis_validas = [\n",
        "    col for col in matriz.select_dtypes(include='number').columns\n",
        "    if matriz[col].nunique() > 2\n",
        "]\n",
        "\n",
        "# Gerar scatterplots entre combinações dessas variáveis\n",
        "for i in range(len(variaveis_validas)):\n",
        "    for j in range(i + 1, len(variaveis_validas)):\n",
        "        plt.figure(figsize=(6,4))\n",
        "        sns.scatterplot(data=matriz, x=variaveis_validas[i], y=variaveis_validas[j])\n",
        "        plt.title(f'Scatterplot: {variaveis_validas[i]} vs {variaveis_validas[j]}')\n",
        "        plt.tight_layout()\n",
        "        plt.show()"
      ],
      "metadata": {
        "id": "6OOa2dMKD3nk"
      },
      "execution_count": null,
      "outputs": []
    },
    {
      "cell_type": "markdown",
      "source": [
        "## 5.2. Mapas de calor de correlação (heatmap)"
      ],
      "metadata": {
        "id": "VMN388XELAxF"
      }
    },
    {
      "cell_type": "code",
      "source": [
        "#Mapa de Calor de Correlação (Heatmap): correlações entre variáveis numéricas.\n",
        "correlacao = matriz.corr()\n",
        "\n",
        "plt.figure(figsize=(20, 14))\n",
        "sns.heatmap(correlacao, annot=True, cmap='coolwarm', fmt=\".2f\", square=True)\n",
        "plt.title('Mapa de Correlação')\n",
        "plt.show()"
      ],
      "metadata": {
        "id": "dG3ANa1wNS3Y"
      },
      "execution_count": null,
      "outputs": []
    },
    {
      "cell_type": "markdown",
      "source": [
        "# 6. Detecção e remoção de Outliers"
      ],
      "metadata": {
        "id": "qdkKhiJWPMJh"
      }
    },
    {
      "cell_type": "markdown",
      "source": [
        "## 6.1. Avaliando a distribuição de cada variável"
      ],
      "metadata": {
        "id": "FOYrLEjpIEEI"
      }
    },
    {
      "cell_type": "markdown",
      "source": [
        "O código tem como objetivo avaliar a distribuição de cada variável numérica no DataFrame, para determinar se elas seguem uma distribuição normal ou se apresentam assimetrias."
      ],
      "metadata": {
        "id": "JUcbrKQIJLsl"
      }
    },
    {
      "cell_type": "code",
      "source": [
        "# Avaliando a distribuição de cada variável\n",
        "import seaborn as sns\n",
        "import matplotlib.pyplot as plt\n",
        "from scipy.stats import shapiro\n",
        "import pandas as pd\n",
        "\n",
        "# Selecionar variáveis numéricas\n",
        "variaveis_numericas = matriz.select_dtypes(include='number')\n",
        "\n",
        "# DataFrame para armazenar os resultados\n",
        "resultado_distribuicao = pd.DataFrame(columns=['Variável', 'Skewness', 'p-valor', 'Tipo de Distribuição'])\n",
        "\n",
        "# Loop pelas variáveis\n",
        "for col in variaveis_numericas.columns:\n",
        "    # Plot\n",
        "    sns.displot(matriz[col], kde=True)\n",
        "    plt.title(f'Distribuição de {col}')\n",
        "    plt.xlabel(col)\n",
        "    plt.ylabel('Frequência')\n",
        "    plt.show()\n",
        "\n",
        "    # Cálculo de skewness\n",
        "    skew = matriz[col].skew()\n",
        "\n",
        "    # Teste de normalidade (Shapiro-Wilk, adequado para até 5000 amostras)\n",
        "    # Reduz o tamanho se houver muitos dados\n",
        "    amostra = matriz[col].dropna()\n",
        "    if len(amostra) > 5000:\n",
        "        amostra = amostra.sample(5000, random_state=42)\n",
        "    stat, p = shapiro(amostra)\n",
        "\n",
        "    # Classificação da distribuição\n",
        "    if p > 0.05 and abs(skew) < 0.5:\n",
        "        tipo = 'Aproximadamente normal'\n",
        "    elif skew > 0.5:\n",
        "        tipo = 'Assimétrica à direita'\n",
        "    elif skew < -0.5:\n",
        "        tipo = 'Assimétrica à esquerda'\n",
        "    else:\n",
        "        tipo = 'Levemente assimétrica'\n",
        "\n",
        "    # Adiciona ao DataFrame de resultados\n",
        "    resultado_distribuicao.loc[len(resultado_distribuicao)] = [col, round(skew, 2), round(p, 4), tipo]\n",
        "\n",
        "# Exibe a tabela final\n",
        "print(\"\\nResumo das distribuições:\")\n",
        "print(resultado_distribuicao)\n"
      ],
      "metadata": {
        "id": "7lS9hAPUH59d"
      },
      "execution_count": null,
      "outputs": []
    },
    {
      "cell_type": "markdown",
      "source": [
        "## 6.2. IQR"
      ],
      "metadata": {
        "id": "Z-YANXyeeeeI"
      }
    },
    {
      "cell_type": "markdown",
      "source": [
        "IQR (Intervalo Interquartil): Mede a dispersão entre o 25º e o 75º percentil.\n",
        "\n",
        "* Detecção de outliers: Outliers podem distorcer análises estatísticas e a performance de modelos de aprendizado de máquina. Identificar e tratar esses valores é importante, especialmente em modelos que são sensíveis a dados extremos.\n",
        "\n",
        "* Definição do multiplicador: O multiplicador (3, neste caso) é um fator que determina a quantidade de \"força\" que você permite para um valor se desviar da média. Quando o multiplicador é maior (por exemplo, 3), você é mais rigoroso ao identificar outliers.\n",
        "\n",
        "* Tratamento de outliers: Após identificar os outliers, você pode decidir se deseja removê-los, transformá-los ou tratá-los de outra forma, dependendo da natureza dos dados e da análise."
      ],
      "metadata": {
        "id": "2xCl9ysVJeIA"
      }
    },
    {
      "cell_type": "code",
      "source": [
        "#IQR (Intervalo Interquartil): Mede a dispersão entre o 25º e o 75º percentil. Valores fora de 3 vezes o IQR são considerados outliers.\n",
        "# Calcular IQR\n",
        "# IQR (Intervalo Interquartil): Detecta outliers para qualquer variável numérica\n",
        "import pandas as pd\n",
        "\n",
        "# Seleciona apenas colunas numéricas\n",
        "variaveis_numericas = matriz.select_dtypes(include='number')\n",
        "\n",
        "# Lista para armazenar índices de outliers e contagem por coluna\n",
        "outlier_indices = set()\n",
        "contagem_por_coluna = {}\n",
        "multiplicador = 3\n",
        "# Loop para cada variável numérica\n",
        "for coluna in variaveis_numericas.columns:\n",
        "    Q1 = matriz[coluna].quantile(0.25)\n",
        "    Q3 = matriz[coluna].quantile(0.75)\n",
        "    IQR = Q3 - Q1\n",
        "    limite_inferior = Q1 - multiplicador * IQR\n",
        "    limite_superior = Q3 + multiplicador * IQR\n",
        "\n",
        "    # Encontra índices dos outliers na coluna\n",
        "    indices = matriz[(matriz[coluna] < limite_inferior) | (matriz[coluna] > limite_superior)].index\n",
        "    outlier_indices.update(indices)\n",
        "\n",
        "    # Salva a quantidade de outliers da coluna\n",
        "    contagem_por_coluna[coluna] = len(indices)\n",
        "\n",
        "# Converte o set para lista antes de indexar\n",
        "outliers_iqr = matriz.loc[list(outlier_indices)]\n",
        "\n",
        "# Impressão dos resultados\n",
        "print(\"Quantidade de outliers por coluna (IQR):\")\n",
        "for coluna, qtd in contagem_por_coluna.items():\n",
        "    print(f\"{coluna}: {qtd}\")\n",
        "\n",
        "print(f\"\\nTotal de linhas com pelo menos um outlier: {len(outliers_iqr)}\")\n",
        "\n",
        "print(\"\\nOutliers detectados com IQR (linhas):\")\n",
        "print(outliers_iqr)\n",
        "\n",
        "\n"
      ],
      "metadata": {
        "id": "55DoYySxedtY"
      },
      "execution_count": null,
      "outputs": []
    },
    {
      "cell_type": "markdown",
      "source": [
        "## 6.3.  Isolation Forest"
      ],
      "metadata": {
        "id": "B9E_QDYVcZzI"
      }
    },
    {
      "cell_type": "markdown",
      "source": [
        "Isolation Forest\n",
        "\n",
        "* Detecção de Outliers: O objetivo principal do código é identificar instâncias que são consideradas outliers, ou seja, pontos que estão significativamente distantes dos dados \"normais\". A detecção de outliers é importante porque esses valores podem distorcer análises estatísticas ou influenciar negativamente o desempenho de modelos de aprendizado de máquina.\n",
        "\n",
        "* Isolation Forest: É uma técnica eficiente para detectar outliers, especialmente quando os dados são grandes ou de alta dimensão. Em comparação com métodos tradicionais como o Z-Score ou IQR, o Isolation Forest é mais eficaz em identificar outliers em dados que não seguem uma distribuição normal ou que são complexos.\n",
        "\n",
        "* Análise Complementar: A comparação entre os valores dos outliers e os valores normais usando o IQR serve para verificar se os outliers identificados estão realmente fora do intervalo esperado e se esse comportamento é consistente com a definição clássica de outlier."
      ],
      "metadata": {
        "id": "_gEcblMAJ9uy"
      }
    },
    {
      "cell_type": "code",
      "source": [
        "from sklearn.ensemble import IsolationForest\n",
        "import pandas as pd\n",
        "import numpy as np\n",
        "\n",
        "# Seleciona apenas colunas numéricas\n",
        "variaveis_numericas = matriz.select_dtypes(include='number')\n",
        "\n",
        "# Inicializa e treina o modelo\n",
        "# 0.02 -> 5% de outliers\n",
        "iso_forest = IsolationForest(contamination=0.02, random_state=42)\n",
        "outlier_flags = iso_forest.fit_predict(variaveis_numericas)\n",
        "\n",
        "# Adiciona a predição ao DataFrame (-1 = outlier)\n",
        "matriz['Outlier_IF'] = outlier_flags\n",
        "\n",
        "# Total de instâncias com outliers\n",
        "total_outliers = (outlier_flags == -1).sum()\n",
        "print(f\"Total de instâncias com outliers (Isolation Forest): {total_outliers} de {len(matriz)}\")\n",
        "\n",
        "# Análise por coluna\n",
        "print(\"\\nNúmero de outliers detectados por variável (Isolation Forest):\")\n",
        "col_outliers = {}\n",
        "for col in variaveis_numericas.columns:\n",
        "    # Compara distribuição dos valores da variável entre outliers e não-outliers\n",
        "    outlier_vals = matriz.loc[matriz['Outlier_IF'] == -1, col]\n",
        "    normal_vals = matriz.loc[matriz['Outlier_IF'] == 1, col]\n",
        "\n",
        "    # Conta quantos outliers estão fora do intervalo interquartil da parte \"normal\"\n",
        "    q1 = normal_vals.quantile(0.25)\n",
        "    q3 = normal_vals.quantile(0.75)\n",
        "    iqr = q3 - q1\n",
        "    lower = q1 - 1.5 * iqr\n",
        "    upper = q3 + 1.5 * iqr\n",
        "\n",
        "    count = ((outlier_vals < lower) | (outlier_vals > upper)).sum()\n",
        "    col_outliers[col] = count\n",
        "    print(f\"{col}: {count} instâncias\")\n",
        "\n",
        "# (Opcional) Ver gráfico ou salvar como DataFrame\n",
        "# pd.Series(col_outliers).sort_values(ascending=False).plot(kind='barh')\n"
      ],
      "metadata": {
        "id": "adyiS6-yceYZ"
      },
      "execution_count": null,
      "outputs": []
    },
    {
      "cell_type": "markdown",
      "source": [
        "## 6.4. Remoção dos outliers"
      ],
      "metadata": {
        "id": "fz4ICrCjg7Ri"
      }
    },
    {
      "cell_type": "markdown",
      "source": [
        "O código que serve para filtrar e remover as instâncias identificadas como outliers do DataFrame, após a aplicação do modelo Isolation Forest."
      ],
      "metadata": {
        "id": "QgG29_leKRwG"
      }
    },
    {
      "cell_type": "code",
      "source": [
        "# Filtra apenas as linhas normais (não outliers)\n",
        "matriz_sem_outliers = matriz[matriz['Outlier_IF'] == 1].drop(columns='Outlier_IF').reset_index(drop=True)\n",
        "\n",
        "print(f\"Número de instâncias após remoção de outliers: {len(matriz_sem_outliers)}\")\n"
      ],
      "metadata": {
        "id": "HmmCBcNxg58K"
      },
      "execution_count": null,
      "outputs": []
    },
    {
      "cell_type": "markdown",
      "source": [
        "# 7. Salvar a matriz"
      ],
      "metadata": {
        "id": "ymyXEwcbOBwS"
      }
    },
    {
      "cell_type": "markdown",
      "source": [
        "Salva a matriz após todo o tratamento como matriz_EDA"
      ],
      "metadata": {
        "id": "ay_kbX2kOKY9"
      }
    },
    {
      "cell_type": "code",
      "source": [
        "from google.colab import files\n",
        "\n",
        "# Salvar o DataFrame como CSV\n",
        "matriz_sem_outliers.to_csv('matriz_EDA.csv', index=False)\n",
        "\n",
        "# Fazer o download do arquivo CSV\n",
        "files.download('matriz_EDA.csv')"
      ],
      "metadata": {
        "id": "eA_opMNvOGg_"
      },
      "execution_count": null,
      "outputs": []
    }
  ]
}