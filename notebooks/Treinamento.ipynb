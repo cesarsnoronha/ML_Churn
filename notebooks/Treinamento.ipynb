{
  "cells": [
    {
      "cell_type": "markdown",
      "metadata": {
        "id": "VJ0ZU6LtaYdf"
      },
      "source": [
        "# Importação dos dados"
      ]
    },
    {
      "cell_type": "code",
      "execution_count": null,
      "metadata": {
        "id": "YVEZdVZ6Zwsh"
      },
      "outputs": [],
      "source": [
        "from google.colab import files\n",
        "import pandas as pd\n",
        "# Abre a janela para selecionar o arquivo\n",
        "uploaded = files.upload()\n",
        "#Carregando a matriz de dados de treinamento\n",
        "x_train= pd.read_csv('x_train.csv')"
      ]
    },
    {
      "cell_type": "code",
      "execution_count": null,
      "metadata": {
        "id": "8Oik5pA9O30O"
      },
      "outputs": [],
      "source": [
        "uploaded = files.upload()\n",
        "y_train= pd.read_csv('y_train.csv')"
      ]
    },
    {
      "cell_type": "code",
      "execution_count": null,
      "metadata": {
        "id": "CuSXoqNhO723"
      },
      "outputs": [],
      "source": [
        "uploaded = files.upload()\n",
        "x_test= pd.read_csv('x_test.csv')"
      ]
    },
    {
      "cell_type": "code",
      "execution_count": null,
      "metadata": {
        "id": "MoC0PsaNO_7c"
      },
      "outputs": [],
      "source": [
        "uploaded = files.upload()\n",
        "y_test= pd.read_csv('y_test.csv')"
      ]
    },
    {
      "cell_type": "markdown",
      "metadata": {
        "id": "Pm0icJ0Zjmkh"
      },
      "source": [
        "# 1. Treinamento do modelo e teste"
      ]
    },
    {
      "cell_type": "markdown",
      "metadata": {
        "id": "myVCygq7zEs6"
      },
      "source": [
        "## 1.1. Treinamento"
      ]
    },
    {
      "cell_type": "code",
      "execution_count": null,
      "metadata": {
        "id": "TjwGHzH40O0_"
      },
      "outputs": [],
      "source": [
        "from sklearn.ensemble import RandomForestClassifier, GradientBoostingClassifier\n",
        "from sklearn.svm import SVC\n",
        "from sklearn.neighbors import KNeighborsClassifier\n",
        "from xgboost import XGBClassifier\n",
        "from sklearn.tree import DecisionTreeClassifier\n",
        "from sklearn.linear_model import LogisticRegression\n",
        "from sklearn.model_selection import GridSearchCV, cross_val_predict\n",
        "from sklearn.metrics import accuracy_score, precision_score, recall_score, f1_score\n",
        "import pandas as pd\n",
        "\n",
        "# Dicionário de modelos e hiperparâmetros\n",
        "modelos_parametros = {\n",
        "    'Random Forest': {\n",
        "        'modelo': RandomForestClassifier(),\n",
        "        'parametros': {\n",
        "            'n_estimators': [100, 200],\n",
        "            'max_depth': [None, 10, 20]\n",
        "        }\n",
        "    },\n",
        "    'SVM': {\n",
        "        'modelo': SVC(),\n",
        "        'parametros': {\n",
        "            'C': [0.1, 1, 10],\n",
        "            'kernel': ['linear', 'rbf']\n",
        "        }\n",
        "    },\n",
        "    'KNN': {\n",
        "        'modelo': KNeighborsClassifier(),\n",
        "        'parametros': {\n",
        "            'n_neighbors': [3, 5, 7],\n",
        "            'metric': ['euclidean', 'manhattan']\n",
        "        }\n",
        "    },\n",
        "    'XGBoost': {\n",
        "        'modelo': XGBClassifier(use_label_encoder=False, eval_metric='mlogloss'),\n",
        "        'parametros': {\n",
        "            'n_estimators': [100, 200],\n",
        "            'learning_rate': [0.01, 0.1],\n",
        "            'max_depth': [3, 6]\n",
        "        }\n",
        "    },\n",
        "    'Decision Tree': {\n",
        "        'modelo': DecisionTreeClassifier(),\n",
        "        'parametros': {\n",
        "            'max_depth': [None, 5, 10],\n",
        "            'criterion': ['gini', 'entropy']\n",
        "        }\n",
        "    },\n",
        "    'Logistic Regression': {\n",
        "        'modelo': LogisticRegression(max_iter=1000),\n",
        "        'parametros': {\n",
        "            'C': [0.1, 1, 10],\n",
        "            'penalty': ['l2']\n",
        "        }\n",
        "    },\n",
        "    'Gradient Boosting': {\n",
        "        'modelo': GradientBoostingClassifier(),\n",
        "        'parametros': {\n",
        "            'n_estimators': [100, 200],\n",
        "            'learning_rate': [0.01, 0.1],\n",
        "            'max_depth': [3, 6]\n",
        "        }\n",
        "    }\n",
        "}\n",
        "\n",
        "# DataFrame para armazenar os resultados\n",
        "resultados = []\n",
        "\n",
        "# Loop de treinamento e avaliação\n",
        "for nome, config in modelos_parametros.items():\n",
        "    print(f\"\\n🔧 Treinando: {nome}\")\n",
        "    grid = GridSearchCV(config['modelo'], config['parametros'], cv=10, scoring='accuracy', n_jobs=-1)\n",
        "    grid.fit(x_train, y_train)\n",
        "\n",
        "    # Previsões com validação cruzada (k=10)\n",
        "    y_pred = cross_val_predict(grid.best_estimator_, x_train, y_train, cv=10)\n",
        "\n",
        "    # Métricas\n",
        "    acc = accuracy_score(y_train, y_pred)\n",
        "    prec = precision_score(y_train, y_pred, average='weighted', zero_division=0)\n",
        "    rec = recall_score(y_train, y_pred, average='weighted')\n",
        "    f1 = f1_score(y_train, y_pred, average='weighted')\n",
        "\n",
        "    resultados.append({\n",
        "        'Modelo': nome,\n",
        "        'Acurácia': acc,\n",
        "        'Precisão': prec,\n",
        "        'Recall': rec,\n",
        "        'F1-Score': f1,\n",
        "        'Melhores Hiperparâmetros': grid.best_params_\n",
        "    })\n",
        "\n",
        "# Criar DataFrame de resultados\n",
        "df_resultados = pd.DataFrame(resultados)\n",
        "df_resultados = df_resultados.sort_values(by='F1-Score', ascending=False)\n",
        "\n",
        "# Exibir a tabela\n",
        "print(\"\\n📊 Resultados dos Modelos (validação cruzada no treino):\")\n",
        "print(df_resultados[['Modelo', 'Acurácia', 'Precisão', 'Recall', 'F1-Score']].round(3))\n",
        "\n",
        "# Exibir hiperparâmetros\n",
        "print(\"\\n🔍 Melhores Hiperparâmetros:\")\n",
        "for i, row in df_resultados.iterrows():\n",
        "    print(f\"{row['Modelo']}: {row['Melhores Hiperparâmetros']}\")\n"
      ]
    }
  ],
  "metadata": {
    "colab": {
      "private_outputs": true,
      "provenance": []
    },
    "kernelspec": {
      "display_name": "Python 3",
      "name": "python3"
    },
    "language_info": {
      "name": "python"
    }
  },
  "nbformat": 4,
  "nbformat_minor": 0
}
